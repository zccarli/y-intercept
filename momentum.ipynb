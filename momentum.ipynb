{
 "cells": [
  {
   "cell_type": "code",
   "execution_count": null,
   "metadata": {},
   "outputs": [],
   "source": []
  },
  {
   "cell_type": "code",
   "execution_count": 2,
   "metadata": {},
   "outputs": [],
   "source": [
    "import os\n",
    "import pandas as pd\n",
    "import numpy as np\n",
    "import matplotlib.pyplot as plt\n",
    "from statsmodels.regression.rolling import RollingOLS\n",
    "import statsmodels.api as sm\n",
    "from tabulate import tabulate\n",
    "import duckdb"
   ]
  },
  {
   "cell_type": "code",
   "execution_count": 241,
   "metadata": {},
   "outputs": [
    {
     "data": {
      "text/html": [
       "<div>\n",
       "<style scoped>\n",
       "    .dataframe tbody tr th:only-of-type {\n",
       "        vertical-align: middle;\n",
       "    }\n",
       "\n",
       "    .dataframe tbody tr th {\n",
       "        vertical-align: top;\n",
       "    }\n",
       "\n",
       "    .dataframe thead th {\n",
       "        text-align: right;\n",
       "    }\n",
       "</style>\n",
       "<table border=\"1\" class=\"dataframe\">\n",
       "  <thead>\n",
       "    <tr style=\"text-align: right;\">\n",
       "      <th></th>\n",
       "      <th>ticker</th>\n",
       "      <th>date</th>\n",
       "      <th>prc</th>\n",
       "      <th>volume</th>\n",
       "      <th>Adj Close</th>\n",
       "    </tr>\n",
       "  </thead>\n",
       "  <tbody>\n",
       "    <tr>\n",
       "      <th>0</th>\n",
       "      <td>1332 JT</td>\n",
       "      <td>2013-01-04</td>\n",
       "      <td>169.0987</td>\n",
       "      <td>1464100</td>\n",
       "      <td>10688.110352</td>\n",
       "    </tr>\n",
       "    <tr>\n",
       "      <th>1</th>\n",
       "      <td>1334 JT</td>\n",
       "      <td>2013-01-04</td>\n",
       "      <td>147.8887</td>\n",
       "      <td>1553000</td>\n",
       "      <td>10688.110352</td>\n",
       "    </tr>\n",
       "    <tr>\n",
       "      <th>2</th>\n",
       "      <td>1605 JT</td>\n",
       "      <td>2013-01-04</td>\n",
       "      <td>970.6780</td>\n",
       "      <td>5312400</td>\n",
       "      <td>10688.110352</td>\n",
       "    </tr>\n",
       "    <tr>\n",
       "      <th>3</th>\n",
       "      <td>1721 JT</td>\n",
       "      <td>2013-01-04</td>\n",
       "      <td>950.5521</td>\n",
       "      <td>816600</td>\n",
       "      <td>10688.110352</td>\n",
       "    </tr>\n",
       "    <tr>\n",
       "      <th>4</th>\n",
       "      <td>1801 JT</td>\n",
       "      <td>2013-01-04</td>\n",
       "      <td>1232.0186</td>\n",
       "      <td>2254000</td>\n",
       "      <td>10688.110352</td>\n",
       "    </tr>\n",
       "    <tr>\n",
       "      <th>...</th>\n",
       "      <td>...</td>\n",
       "      <td>...</td>\n",
       "      <td>...</td>\n",
       "      <td>...</td>\n",
       "      <td>...</td>\n",
       "    </tr>\n",
       "    <tr>\n",
       "      <th>451108</th>\n",
       "      <td>9613 JT</td>\n",
       "      <td>2021-03-19</td>\n",
       "      <td>1723.0000</td>\n",
       "      <td>7315700</td>\n",
       "      <td>29792.050781</td>\n",
       "    </tr>\n",
       "    <tr>\n",
       "      <th>451109</th>\n",
       "      <td>9735 JT</td>\n",
       "      <td>2021-03-19</td>\n",
       "      <td>9594.0000</td>\n",
       "      <td>820300</td>\n",
       "      <td>29792.050781</td>\n",
       "    </tr>\n",
       "    <tr>\n",
       "      <th>451110</th>\n",
       "      <td>9766 JT</td>\n",
       "      <td>2021-03-19</td>\n",
       "      <td>6850.0000</td>\n",
       "      <td>870300</td>\n",
       "      <td>29792.050781</td>\n",
       "    </tr>\n",
       "    <tr>\n",
       "      <th>451111</th>\n",
       "      <td>9983 JT</td>\n",
       "      <td>2021-03-19</td>\n",
       "      <td>91020.0000</td>\n",
       "      <td>1542800</td>\n",
       "      <td>29792.050781</td>\n",
       "    </tr>\n",
       "    <tr>\n",
       "      <th>451112</th>\n",
       "      <td>9984 JT</td>\n",
       "      <td>2021-03-19</td>\n",
       "      <td>9969.0000</td>\n",
       "      <td>20715700</td>\n",
       "      <td>29792.050781</td>\n",
       "    </tr>\n",
       "  </tbody>\n",
       "</table>\n",
       "<p>451113 rows × 5 columns</p>\n",
       "</div>"
      ],
      "text/plain": [
       "         ticker        date         prc    volume     Adj Close\n",
       "0       1332 JT  2013-01-04    169.0987   1464100  10688.110352\n",
       "1       1334 JT  2013-01-04    147.8887   1553000  10688.110352\n",
       "2       1605 JT  2013-01-04    970.6780   5312400  10688.110352\n",
       "3       1721 JT  2013-01-04    950.5521    816600  10688.110352\n",
       "4       1801 JT  2013-01-04   1232.0186   2254000  10688.110352\n",
       "...         ...         ...         ...       ...           ...\n",
       "451108  9613 JT  2021-03-19   1723.0000   7315700  29792.050781\n",
       "451109  9735 JT  2021-03-19   9594.0000    820300  29792.050781\n",
       "451110  9766 JT  2021-03-19   6850.0000    870300  29792.050781\n",
       "451111  9983 JT  2021-03-19  91020.0000   1542800  29792.050781\n",
       "451112  9984 JT  2021-03-19   9969.0000  20715700  29792.050781\n",
       "\n",
       "[451113 rows x 5 columns]"
      ]
     },
     "execution_count": 241,
     "metadata": {},
     "output_type": "execute_result"
    }
   ],
   "source": [
    "data = pd.read_csv('/Users/Rui/Desktop/phd/y_intercept/data.csv')\n",
    "data = pd.DataFrame(data)\n",
    "data\n",
    "\n",
    "market = pd.read_csv('/Users/Rui/Desktop/phd/y_intercept/N225.csv')\n",
    "market = pd.DataFrame(market)\n",
    "market\n",
    "\n",
    "data = pd.merge(data, market[['Adj Close', 'Date']], left_on='date', right_on='Date')\n",
    "data.drop(['Date'], axis=1, inplace=True)\n",
    "data.rename(columns={'last': 'prc'}, inplace=True)\n",
    "\n",
    "data"
   ]
  },
  {
   "cell_type": "code",
   "execution_count": 14,
   "metadata": {},
   "outputs": [
    {
     "data": {
      "text/plain": [
       "63.0"
      ]
     },
     "execution_count": 14,
     "metadata": {},
     "output_type": "execute_result"
    }
   ],
   "source": [
    "min(data['last'])"
   ]
  },
  {
   "cell_type": "code",
   "execution_count": 11,
   "metadata": {},
   "outputs": [
    {
     "data": {
      "text/plain": [
       "248"
      ]
     },
     "execution_count": 11,
     "metadata": {},
     "output_type": "execute_result"
    }
   ],
   "source": [
    "len(set(data['ticker']))"
   ]
  },
  {
   "cell_type": "code",
   "execution_count": 13,
   "metadata": {},
   "outputs": [
    {
     "data": {
      "text/plain": [
       "0"
      ]
     },
     "execution_count": 13,
     "metadata": {},
     "output_type": "execute_result"
    }
   ],
   "source": [
    "data['last'].isnull().sum()"
   ]
  },
  {
   "cell_type": "code",
   "execution_count": 100,
   "metadata": {},
   "outputs": [
    {
     "data": {
      "text/plain": [
       "('2013-01-04', '2021-03-19')"
      ]
     },
     "execution_count": 100,
     "metadata": {},
     "output_type": "execute_result"
    }
   ],
   "source": [
    "data['date'].min(), data['date'].max()"
   ]
  },
  {
   "cell_type": "code",
   "execution_count": 242,
   "metadata": {},
   "outputs": [
    {
     "name": "stderr",
     "output_type": "stream",
     "text": [
      "/var/folders/4p/lng78s416xs7hybsq7jh6lqm0000gn/T/ipykernel_15452/487009957.py:21: FutureWarning: Not prepending group keys to the result index of transform-like apply. In the future, the group keys will be included in the index, regardless of whether the applied function returns a like-indexed object.\n",
      "To preserve the previous behavior, use\n",
      "\n",
      "\t>>> .groupby(..., group_keys=False)\n",
      "\n",
      "To adopt the future behavior and silence this warning, use \n",
      "\n",
      "\t>>> .groupby(..., group_keys=True)\n",
      "  data\n"
     ]
    }
   ],
   "source": [
    "'''\n",
    "- 805,090 observations based on monthly return data from July 1997 to December 2012\n",
    "- observations must have a one year history of past stock return data to compute momentum variables, \n",
    "- must have a stock price in the preceding month that is greater than one dollar. \n",
    "'''\n",
    "data['date'] = pd.to_datetime(data['date'])\n",
    "data['year'] = data['date'].dt.year\n",
    "data['prc_lag1'] = data.groupby('ticker')['prc'].shift(1)\n",
    "data['vol_lag1'] = data['volume'].shift(1)\n",
    "data['ret'] = data.groupby('ticker')['prc'].pct_change()\n",
    "data['mkt'] = data.groupby('ticker')['Adj Close'].pct_change()\n",
    "\n",
    "def rolling_prod(a, n=30) :\n",
    "    ret = np.cumprod(a.values)\n",
    "    ret[n:] = ret[n:] / ret[:-n]\n",
    "    ret[:n-1] = np.nan\n",
    "    return pd.Series(ret, index=a.index)\n",
    "\n",
    "\n",
    "data['momentum'] = (\n",
    "    data\n",
    "    .assign(ret=(data['ret'].fillna(0)+1))\n",
    "    .groupby('ticker')['ret']\n",
    "    .apply(rolling_prod)\n",
    ") - 1\n",
    "\n",
    "\n",
    "data.dropna(inplace=True)\n",
    "\n",
    "def apply_quantiles(x, include_in_quantiles=None, bins=10): \n",
    "    x = pd.Series(x)\n",
    "    if include_in_quantiles is None:\n",
    "        include_in_quantiles = [True] * len(x)        \n",
    "    \n",
    "    quantiles = np.quantile(\n",
    "        np.unique(x[x.notnull() & include_in_quantiles]),\n",
    "        np.linspace(0, 1, bins+1)\n",
    "    )\n",
    "    quantiles[0] = x.dropna().min() - 1\n",
    "    quantiles[-1] = x.dropna().max() + 1    \n",
    "    return pd.cut(x, quantiles, labels=False) + 1\n",
    "\n",
    "\n",
    "\n",
    "def make_portfolio(df): \n",
    "    \n",
    "    portfolios = (\n",
    "        df[\n",
    "            df['bin'].notnull() &\n",
    "            df['ret'].notnull() \n",
    "        ]\n",
    "        .groupby(['bin', 'date'])[['ret', 'vol_lag1']]\n",
    "        .apply(\n",
    "            lambda g: pd.Series({\n",
    "                'ew': g['ret'].mean(),\n",
    "                'vw': np.average(g['ret'], weights=g['vol_lag1'])\n",
    "            })\n",
    "        )\n",
    "        .reset_index()\n",
    "    )\n",
    "\n",
    "    portfolio_LS = (\n",
    "        portfolios[portfolios['bin'].isin(set([1, 10]))]\n",
    "        .groupby('date')\n",
    "        .apply(\n",
    "            lambda g: pd.Series({\n",
    "                'ew': np.sum(np.where(g['bin']==1, -g['ew'], g['ew'])),\n",
    "                'vw': np.sum(np.where(g['bin']==1, -g['vw'], g['vw']))\n",
    "            })\n",
    "        )\n",
    "        .reset_index()\n",
    "    )\n",
    "        \n",
    "    portfolio_LS = portfolio_LS.sort_values('date').reset_index(drop=True)\n",
    "    portfolio_LS['cum_ew'] = (portfolio_LS['ew'] + 1).cumprod()\n",
    "    portfolio_LS['cum_vw'] = (portfolio_LS['vw'] + 1).cumprod()\n",
    "\n",
    "\n",
    "    return portfolio_LS\n"
   ]
  },
  {
   "cell_type": "code",
   "execution_count": 266,
   "metadata": {},
   "outputs": [
    {
     "data": {
      "image/png": "[encoded data removed]",
      "text/plain": [
       "<Figure size 640x480 with 1 Axes>"
      ]
     },
     "metadata": {},
     "output_type": "display_data"
    }
   ],
   "source": [
    "data['bin'] = (\n",
    "    data\n",
    "    .groupby('date')\n",
    "    .apply(lambda group: apply_quantiles(group['momentum'], bins=10))\n",
    ").reset_index(level=[0], drop=True).sort_index()\n",
    "\n",
    "portfolio = make_portfolio(data)\n",
    "portfolio.set_index('date')['cum_ew'].plot().grid(axis='y')\n",
    "portfolio.set_index('date')['cum_vw'].plot().grid(axis='y')"
   ]
  },
  {
   "cell_type": "code",
   "execution_count": 97,
   "metadata": {},
   "outputs": [
    {
     "name": "stdout",
     "output_type": "stream",
     "text": [
      "+-----------------------+---------------------+\n",
      "|        Metric         |        Value        |\n",
      "+-----------------------+---------------------+\n",
      "|   Maximum Drawdown    |         1.0         |\n",
      "| Annualized Volatility | 110117592.43501434  |\n",
      "|     Sharpe Ratio      | 0.02076048935328187 |\n",
      "+-----------------------+---------------------+\n",
      "+-----------------------+----------------------+\n",
      "|        Metric         |        Value         |\n",
      "+-----------------------+----------------------+\n",
      "|   Maximum Drawdown    |         1.0          |\n",
      "| Annualized Volatility |  41560470.563807465  |\n",
      "|     Sharpe Ratio      | 0.021602102956220625 |\n",
      "+-----------------------+----------------------+\n"
     ]
    },
    {
     "name": "stderr",
     "output_type": "stream",
     "text": [
      "/Users/Rui/opt/anaconda3/lib/python3.8/site-packages/numpy/core/fromnumeric.py:57: RuntimeWarning: overflow encountered in accumulate\n",
      "  return bound(*args, **kwds)\n"
     ]
    }
   ],
   "source": [
    "def vol(ret):\n",
    "    annual_volatility = np.std(ret) * np.sqrt(252)\n",
    "    return annual_volatility\n",
    "\n",
    "def sharpe(ret, rf=0.03):\n",
    "    excess_returns = np.array(ret) - rf\n",
    "    sharpe_ratio = (np.mean(excess_returns) / vol(ret)) if vol(ret) != 0 else 0\n",
    "    return sharpe_ratio\n",
    "\n",
    "def max_drawdown(ret):\n",
    "    cum_ret = np.cumprod(1 + ret)\n",
    "    peak = cum_ret.cummax()\n",
    "    trough = cum_ret.cummin()\n",
    "    drawdown = (peak - trough) / peak\n",
    "    max_drawdown = drawdown.max()\n",
    "    return max_drawdown\n",
    "\n",
    "def obs(ret):\n",
    "    metrics = [\n",
    "        [\"Maximum Drawdown\", max_drawdown(ret)],\n",
    "        [\"Annualized Volatility\", vol(ret)],\n",
    "        [\"Sharpe Ratio\", sharpe(ret)],\n",
    "    ]\n",
    "\n",
    "    table = tabulate(metrics, headers=[\"Metric\", \"Value\"], tablefmt=\"pretty\")\n",
    "    print(table)\n",
    "\n",
    "obs(portfolio['cum_ew'])\n",
    "obs(portfolio['cum_vw'])"
   ]
  }
 ],
 "metadata": {
  "kernelspec": {
   "display_name": "base",
   "language": "python",
   "name": "python3"
  },
  "language_info": {
   "codemirror_mode": {
    "name": "ipython",
    "version": 3
   },
   "file_extension": ".py",
   "mimetype": "text/x-python",
   "name": "python",
   "nbconvert_exporter": "python",
   "pygments_lexer": "ipython3",
   "version": "3.8.8"
  }
 },
 "nbformat": 4,
 "nbformat_minor": 2
}
